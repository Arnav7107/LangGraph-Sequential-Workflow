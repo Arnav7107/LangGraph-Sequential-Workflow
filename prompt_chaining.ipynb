{
 "cells": [
  {
   "cell_type": "code",
   "execution_count": 1,
   "id": "289fefb6",
   "metadata": {},
   "outputs": [],
   "source": [
    "from langgraph.graph import StateGraph, START, END\n",
    "from langchain_google_genai import ChatGoogleGenerativeAI\n",
    "from typing import TypedDict\n",
    "from dotenv import load_dotenv"
   ]
  },
  {
   "cell_type": "code",
   "execution_count": null,
   "id": "25f54718",
   "metadata": {},
   "outputs": [],
   "source": [
    "load_dotenv()\n",
    "llm = ChatGoogleGenerativeAI(model = \"gemini-2.5-flash\")\n"
   ]
  },
  {
   "cell_type": "code",
   "execution_count": 3,
   "id": "07fba1c8",
   "metadata": {},
   "outputs": [],
   "source": [
    "class BlogState(TypedDict):\n",
    "    topic : str\n",
    "    outline : str\n",
    "    content : str\n",
    "    "
   ]
  },
  {
   "cell_type": "code",
   "execution_count": 5,
   "id": "6cb7ae02",
   "metadata": {},
   "outputs": [],
   "source": [
    "def get_outline(state : BlogState) -> BlogState:\n",
    "    topic = state['topic']\n",
    "    \n",
    "    prompt = f\"Give a brief outline on the given topic :- {topic}\"\n",
    "    outline = llm.invoke(prompt).content\n",
    "    state['outline'] = outline\n",
    "    \n",
    "    return state"
   ]
  },
  {
   "cell_type": "code",
   "execution_count": null,
   "id": "da7b5a59",
   "metadata": {},
   "outputs": [],
   "source": [
    "# Create Graph\n",
    "graph = StateGraph(BlogState)\n",
    "\n",
    "# Add Node\n",
    "graph.add_node('get_outline', get_outline)\n"
   ]
  },
  {
   "cell_type": "code",
   "execution_count": null,
   "id": "28faae13",
   "metadata": {},
   "outputs": [],
   "source": [
    "\n"
   ]
  }
 ],
 "metadata": {
  "kernelspec": {
   "display_name": "myenv",
   "language": "python",
   "name": "python3"
  },
  "language_info": {
   "codemirror_mode": {
    "name": "ipython",
    "version": 3
   },
   "file_extension": ".py",
   "mimetype": "text/x-python",
   "name": "python",
   "nbconvert_exporter": "python",
   "pygments_lexer": "ipython3",
   "version": "3.13.0"
  }
 },
 "nbformat": 4,
 "nbformat_minor": 5
}
