{
 "cells": [
  {
   "cell_type": "code",
   "execution_count": 1,
   "id": "289fefb6",
   "metadata": {},
   "outputs": [],
   "source": [
    "from langgraph.graph import StateGraph, START, END\n",
    "from langchain_google_genai import ChatGoogleGenerativeAI\n",
    "from typing import TypedDict\n",
    "from dotenv import load_dotenv"
   ]
  },
  {
   "cell_type": "code",
   "execution_count": 11,
   "id": "25f54718",
   "metadata": {},
   "outputs": [],
   "source": [
    "load_dotenv()\n",
    "llm = ChatGoogleGenerativeAI(model = \"gemini-2.5-flash\")\n"
   ]
  },
  {
   "cell_type": "code",
   "execution_count": 3,
   "id": "07fba1c8",
   "metadata": {},
   "outputs": [],
   "source": [
    "class BlogState(TypedDict):\n",
    "    topic : str\n",
    "    outline : str\n",
    "    content : str\n",
    "    "
   ]
  },
  {
   "cell_type": "code",
   "execution_count": null,
   "id": "6cb7ae02",
   "metadata": {},
   "outputs": [],
   "source": [
    "def get_outline(state : BlogState) -> BlogState:\n",
    "    topic = state['topic']\n",
    "    \n",
    "    outline_prompt = f\"Give a brief outline on the given topic :- {topic}\"\n",
    "    outline = llm.invoke(outline_prompt).content\n",
    "    state['outline'] = outline\n",
    "    \n",
    "    return state"
   ]
  },
  {
   "cell_type": "code",
   "execution_count": 13,
   "id": "ac3efb26",
   "metadata": {},
   "outputs": [],
   "source": [
    "def get_content(state : BlogState) -> BlogState:\n",
    "    topic = state['topic']\n",
    "    outline = state['outline']\n",
    "    \n",
    "    blog_prompt = f\"Write a blog on the topic :- {topic} using the given following outline :- {outline}.\"\n",
    "    content = llm.invoke(blog_prompt).content\n",
    "    \n",
    "    state['content'] = content\n",
    "    \n",
    "    return state\n"
   ]
  },
  {
   "cell_type": "code",
   "execution_count": 9,
   "id": "da7b5a59",
   "metadata": {},
   "outputs": [
    {
     "data": {
      "image/png": "[encoded data removed]",
      "text/plain": [
       "<langgraph.graph.state.CompiledStateGraph object at 0x10bfa4a50>"
      ]
     },
     "execution_count": 9,
     "metadata": {},
     "output_type": "execute_result"
    }
   ],
   "source": [
    "# Create Graph\n",
    "graph = StateGraph(BlogState)\n",
    "\n",
    "# Add Node\n",
    "graph.add_node('get_outline', get_outline)\n",
    "graph.add_node('get_content', get_content)\n",
    "\n",
    "# Add Edges\n",
    "graph.add_edge(START, 'get_outline')\n",
    "graph.add_edge('get_outline', 'get_content')\n",
    "graph.add_edge('get_content', END)\n",
    "\n",
    "# Compile the Graph\n",
    "workflow = graph.compile()\n",
    "workflow\n"
   ]
  },
  {
   "cell_type": "code",
   "execution_count": 14,
   "id": "28faae13",
   "metadata": {},
   "outputs": [
    {
     "name": "stdout",
     "output_type": "stream",
     "text": [
      "{'topic': \"GenAi in today's world\", 'outline': 'Here\\'s a brief outline on GenAI in today\\'s world:\\n\\n**GenAI in Today\\'s World**\\n\\n**I. Introduction to Generative AI (GenAI)**\\n    *   **Definition:** AI models capable of creating new, original content (text, images, audio, video, code) rather than just analyzing existing data.\\n    *   **Core Technologies:** Built upon large language models (LLMs), diffusion models, and other neural network architectures.\\n    *   **Key Shift:** From analytical/predictive AI to creative/generative AI.\\n\\n**II. Key Characteristics & Capabilities**\\n    *   **Content Generation:** Producing realistic and coherent text, images, music, video, and 3D models.\\n    *   **Versatility:** Adaptable across various domains and tasks.\\n    *   **Speed & Scale:** Rapid creation of large volumes of content.\\n    *   **Personalization:** Tailoring content to individual preferences.\\n\\n**III. Current Applications & Impact**\\n    *   **A. Creative Industries:**\\n        *   **Art & Design:** Generating unique artwork, logos, product designs.\\n        *   **Writing & Publishing:** Drafting articles, marketing copy, scripts, poetry, code.\\n        *   **Music & Audio:** Composing music, generating voiceovers, sound effects.\\n        *   **Video Production:** Creating short clips, animations, virtual backgrounds.\\n    *   **B. Business & Productivity:**\\n        *   **Customer Service:** Advanced chatbots for sophisticated interactions.\\n        *   **Marketing & Sales:** Personalized ad content, campaign generation.\\n        *   **Software Development:** Code generation, debugging, documentation, testing.\\n        *   **Data Analysis:** Summarizing complex data, generating insights.\\n        *   **Education:** Creating learning materials, personalized tutoring.\\n    *   **C. Everyday Tools:**\\n        *   Enhanced search engines (e.g., Google SGE, Bing AI).\\n        *   Virtual assistants with improved conversational abilities.\\n        *   Image editing and enhancement tools.\\n\\n**IV. Benefits & Advantages**\\n    *   **Increased Efficiency:** Automating repetitive content creation tasks.\\n    *   **Enhanced Creativity:** Providing new ideas and tools for innovation.\\n    *   **Personalization at Scale:** Delivering tailored experiences to users.\\n    *   **Accessibility:** Lowering the barrier for content creation and technical tasks.\\n    *   **Problem Solving:** Rapid prototyping and exploration of solutions.\\n\\n**V. Challenges & Concerns**\\n    *   **Ethical Issues:** Bias in generated content, intellectual property rights, deepfakes, consent.\\n    *   **Misinformation & Disinformation:** Easy creation of fake news, images, and videos.\\n    *   **Job Displacement:** Automation impacting roles in creative, administrative, and technical fields.\\n    *   **Security & Privacy:** Data leakage, vulnerability to adversarial attacks, privacy of training data.\\n    *   **Quality Control:** \"Hallucinations\" (generating factually incorrect information), lack of nuanced understanding.\\n    *   **Environmental Impact:** High energy consumption for training and running large models.\\n\\n**VI. Future Outlook**\\n    *   **Continued Integration:** Deeper embedding into existing software and services.\\n    *   **Multimodal AI:** More seamless generation across different content types (text-to-video, etc.).\\n    *   **Regulatory Scrutiny:** Increased focus on governance, transparency, and safety guidelines.\\n    *   **Human-AI Collaboration:** Shifting towards augmentation where AI assists human creativity and productivity.\\n    *   **Democratization of Tools:** Making powerful creative and technical tools accessible to a broader audience.', 'content': '## The Generative AI Revolution: Shaping Our Present and Future\\n\\nRemember when Artificial Intelligence was primarily about crunching numbers, predicting trends, or playing chess? Fast forward to today, and we\\'re witnessing a monumental shift. A new breed of AI has emerged, one that doesn\\'t just analyze the past but actively *creates* the future: Generative AI (GenAI).\\n\\n### What Exactly is Generative AI?\\n\\nAt its core, Generative AI refers to AI models capable of creating new, original content rather than just analyzing existing data. Think beyond predictive text – imagine AI that can write an entire novel, compose a symphony, design a product, or even generate realistic video footage from a simple text prompt.\\n\\nThis incredible capability is built upon sophisticated neural network architectures, notably Large Language Models (LLMs) like GPT-4, and diffusion models that power stunning image generation tools. The key shift here is profound: we\\'ve moved from analytical and predictive AI, which helps us understand what *is* or what *will be*, to creative and generative AI, which helps us imagine and manifest what *could be*.\\n\\n### The Superpowers of GenAI\\n\\nWhat makes GenAI so uniquely powerful and disruptive?\\n\\n*   **Content Generation:** Its ability to produce realistic and coherent text, stunning images, compelling music, dynamic video, and even intricate 3D models is unparalleled.\\n*   **Versatility:** GenAI isn\\'t a one-trick pony. It adapts across a vast array of domains and tasks, from creative arts to complex scientific research.\\n*   **Speed & Scale:** What might take a human artist or writer hours, days, or even weeks to produce, GenAI can often accomplish in seconds, generating vast volumes of content rapidly.\\n*   **Personalization:** It can tailor content to individual preferences, making experiences far more engaging and relevant for users.\\n\\n### GenAI in Action: A Glimpse into Today\\'s World\\n\\nGenAI isn\\'t just a theoretical concept; it\\'s already deeply embedded in many facets of our lives:\\n\\n**A. Creative Industries are Being Redefined:**\\n*   **Art & Design:** Artists are using GenAI to generate unique artwork, explore new styles, create logos, and even develop initial product designs.\\n*   **Writing & Publishing:** From drafting articles, marketing copy, and social media posts to scripting entire short films, poetry, and even basic code, GenAI is a prolific wordsmith.\\n*   **Music & Audio:** Composers are leveraging AI to generate new musical pieces, create background scores, generate realistic voiceovers, and produce bespoke sound effects.\\n*   **Video Production:** AI is helping create short video clips, animate characters, and generate virtual backgrounds, significantly reducing production time and costs.\\n\\n**B. Boosting Business & Productivity Across the Board:**\\n*   **Customer Service:** Advanced chatbots powered by GenAI offer sophisticated, nuanced, and human-like interactions, resolving complex queries with greater efficiency.\\n*   **Marketing & Sales:** Personalized ad content, tailored email campaigns, and even entire marketing strategies can be generated, reaching target audiences with unprecedented precision.\\n*   **Software Development:** Developers are using GenAI for code generation, identifying and debugging errors, automating documentation, and even writing test cases.\\n*   **Data Analysis:** GenAI can summarize complex datasets, extract key insights, and present information in easily digestible formats.\\n*   **Education:** Creating personalized learning materials, generating quizzes, and even acting as a personalized tutor, GenAI is transforming how we learn.\\n\\n**C. Enhancing Our Everyday Tools:**\\n*   **Enhanced Search Engines:** Tools like Google SGE and Bing AI provide generative answers, summarizing information and offering conversational search experiences.\\n*   **Virtual Assistants:** Our digital companions are becoming smarter, understanding context better, and engaging in more natural conversations.\\n*   **Image Editing & Enhancement:** AI-powered tools can transform photos with simple prompts, remove unwanted objects, or enhance details with remarkable ease.\\n\\n### The Upside: Unlocking New Potential\\n\\nThe advantages of GenAI are compelling:\\n\\n*   **Increased Efficiency:** Automating repetitive and time-consuming content creation tasks frees up human talent for higher-level strategic work.\\n*   **Enhanced Creativity:** GenAI acts as a powerful brainstorming partner, providing novel ideas, exploring countless variations, and pushing the boundaries of human imagination.\\n*   **Personalization at Scale:** Delivering truly tailored experiences to millions of users simultaneously, from marketing messages to educational content.\\n*   **Accessibility:** It lowers the barrier for content creation and technical tasks, empowering individuals and small businesses who may lack specialized skills or resources.\\n*   **Problem Solving:** Rapid prototyping, exploring diverse solutions, and simulating complex scenarios can accelerate innovation across industries.\\n\\n### The Downside: Navigating the Ethical Minefield\\n\\nWith great power comes great responsibility, and GenAI presents significant challenges:\\n\\n*   **Ethical Issues:** Concerns about bias embedded in training data leading to discriminatory outputs, intellectual property rights when AI \"learns\" from existing works, the creation of convincing deepfakes, and questions of consent are paramount.\\n*   **Misinformation & Disinformation:** The ease with which realistic fake news, images, and videos can be generated poses a serious threat to trust and truth in the digital age.\\n*   **Job Displacement:** Automation powered by GenAI could impact roles in creative, administrative, and even technical fields, necessitating reskilling and adaptation.\\n*   **Security & Privacy:** The vast amounts of data used to train these models raise concerns about data leakage, vulnerability to adversarial attacks, and the privacy of individuals whose data is ingested.\\n*   **Quality Control:** GenAI models can \"hallucinate,\" generating factually incorrect or nonsensical information, and often lack a true, nuanced understanding of the world.\\n*   **Environmental Impact:** Training and running these massive models consume significant energy, contributing to carbon emissions.\\n\\n### The Road Ahead: A Future of Collaboration\\n\\nLooking forward, GenAI is not slowing down.\\n\\n*   **Continued Integration:** Expect GenAI to become even more deeply embedded into existing software, apps, and services, becoming an invisible yet powerful assistant.\\n*   **Multimodal AI:** The future promises more seamless generation across different content types – imagine talking to an AI that instantly generates a video with a script, visuals, and voiceover.\\n*   **Regulatory Scrutiny:** Governments and international bodies will increasingly focus on governance, transparency, and safety guidelines to mitigate risks and ensure responsible development.\\n*   **Human-AI Collaboration:** The most promising future sees a shift towards augmentation, where GenAI assists and amplifies human creativity and productivity, acting as a copilot rather than a replacement.\\n*   **Democratization of Tools:** Powerful creative and technical tools will become even more accessible to a broader audience, fostering innovation from unexpected corners.\\n\\nGenerative AI is more than just a technological advancement; it\\'s a cultural phenomenon, a new frontier for creativity, and a powerful force reshaping how we work, learn, and interact with the digital world. While the journey ahead is fraught with challenges, the potential for positive transformation is immense, inviting us all to engage thoughtfully and shape its future responsibly.'}\n"
     ]
    }
   ],
   "source": [
    "initial_state = {\"topic\" : \"GenAi in today's world\"}\n",
    "\n",
    "final_state = workflow.invoke(initial_state)\n",
    "\n",
    "print(final_state)\n"
   ]
  }
 ],
 "metadata": {
  "kernelspec": {
   "display_name": "myenv",
   "language": "python",
   "name": "python3"
  },
  "language_info": {
   "codemirror_mode": {
    "name": "ipython",
    "version": 3
   },
   "file_extension": ".py",
   "mimetype": "text/x-python",
   "name": "python",
   "nbconvert_exporter": "python",
   "pygments_lexer": "ipython3",
   "version": "3.13.0"
  }
 },
 "nbformat": 4,
 "nbformat_minor": 5
}
