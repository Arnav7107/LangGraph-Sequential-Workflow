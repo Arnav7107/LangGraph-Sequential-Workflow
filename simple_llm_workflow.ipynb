{
 "cells": [
  {
   "cell_type": "code",
   "execution_count": 2,
   "id": "7c08f9b6",
   "metadata": {},
   "outputs": [],
   "source": [
    "from langgraph.graph import StateGraph, START, END\n",
    "from langchain_google_genai import ChatGoogleGenerativeAI\n",
    "from typing import TypedDict\n",
    "from dotenv import load_dotenv"
   ]
  },
  {
   "cell_type": "code",
   "execution_count": 5,
   "id": "485740e0",
   "metadata": {},
   "outputs": [],
   "source": [
    "load_dotenv()\n",
    "\n",
    "llm = ChatGoogleGenerativeAI(model = \"gemini-2.5-flash\")"
   ]
  },
  {
   "cell_type": "code",
   "execution_count": 6,
   "id": "b44f1f82",
   "metadata": {},
   "outputs": [],
   "source": [
    "# Create a state\n",
    "\n",
    "class LLMState(TypedDict):\n",
    "    question : str\n",
    "    answer : str\n",
    "    "
   ]
  },
  {
   "cell_type": "code",
   "execution_count": 7,
   "id": "57dbfc7f",
   "metadata": {},
   "outputs": [],
   "source": [
    "def llm_qa(state : LLMState) -> LLMState:\n",
    "    \n",
    "    # extract the question \n",
    "    question = state['question']\n",
    "    \n",
    "    # Create a prompt \n",
    "    prompt = f\"Answer the following question :- {question}\"\n",
    "    \n",
    "    # Get the answer from llm \n",
    "    answer = llm.invoke(prompt)\n",
    "    \n",
    "    # Update the state\n",
    "    state['answer'] = answer    "
   ]
  },
  {
   "cell_type": "code",
   "execution_count": null,
   "id": "0053eac5",
   "metadata": {},
   "outputs": [],
   "source": [
    "# Create a graph\n",
    "\n",
    "graph = StateGraph(LLMState)\n",
    "\n",
    "# Add Nodes\n",
    "graph.add_node('llm_qa', llm_qa)\n"
   ]
  }
 ],
 "metadata": {
  "kernelspec": {
   "display_name": "myenv",
   "language": "python",
   "name": "python3"
  },
  "language_info": {
   "codemirror_mode": {
    "name": "ipython",
    "version": 3
   },
   "file_extension": ".py",
   "mimetype": "text/x-python",
   "name": "python",
   "nbconvert_exporter": "python",
   "pygments_lexer": "ipython3",
   "version": "3.13.0"
  }
 },
 "nbformat": 4,
 "nbformat_minor": 5
}
