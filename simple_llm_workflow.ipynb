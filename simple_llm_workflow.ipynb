{
 "cells": [
  {
   "cell_type": "code",
   "execution_count": null,
   "id": "7c08f9b6",
   "metadata": {},
   "outputs": [],
   "source": []
  },
  {
   "cell_type": "code",
   "execution_count": 5,
   "id": "485740e0",
   "metadata": {},
   "outputs": [],
   "source": [
    "load_dotenv()\n",
    "\n",
    "llm = ChatGoogleGenerativeAI(model = \"gemini-2.5-flash\")"
   ]
  },
  {
   "cell_type": "code",
   "execution_count": 6,
   "id": "b44f1f82",
   "metadata": {},
   "outputs": [],
   "source": [
    "# Create a state\n",
    "\n",
    "class LLMState(TypedDict):\n",
    "    question : str\n",
    "    answer : str\n",
    "    "
   ]
  },
  {
   "cell_type": "code",
   "execution_count": 12,
   "id": "57dbfc7f",
   "metadata": {},
   "outputs": [],
   "source": [
    "def llm_qa(state : LLMState) -> LLMState:\n",
    "    \n",
    "    # extract the question \n",
    "    question = state['question']\n",
    "    \n",
    "    # Create a prompt \n",
    "    prompt = f\"Answer the following question :- {question}\"\n",
    "    \n",
    "    # Get the answer from llm \n",
    "    answer = llm.invoke(prompt).content\n",
    "    \n",
    "    # Update the state\n",
    "    state['answer'] = answer    \n",
    "    \n",
    "    return state"
   ]
  },
  {
   "cell_type": "code",
   "execution_count": 13,
   "id": "0053eac5",
   "metadata": {},
   "outputs": [],
   "source": [
    "# Create a graph\n",
    "\n",
    "graph = StateGraph(LLMState)\n",
    "\n",
    "# Add Nodes\n",
    "graph.add_node('llm_qa', llm_qa)\n",
    "\n",
    "# Add edges\n",
    "graph.add_edge(START, 'llm_qa')\n",
    "graph.add_edge('llm_qa', END)\n",
    "\n",
    "# Compile the graph\n",
    "workflow = graph.compile()\n",
    "\n"
   ]
  },
  {
   "cell_type": "code",
   "execution_count": 14,
   "id": "15f514f0",
   "metadata": {},
   "outputs": [
    {
     "name": "stdout",
     "output_type": "stream",
     "text": [
      "{'question': 'What is the spped at which light travels?', 'answer': \"The speed of light in a vacuum, denoted by the symbol 'c', is exactly **299,792,458 meters per second (m/s)**.\\n\\nThis is often rounded to:\\n*   Approximately **300,000 kilometers per second (km/s)**\\n*   Approximately **186,282 miles per second (mi/s)**\\n\\nIt is the fastest speed at which anything can travel in the universe, and it is a fundamental physical constant.\"}\n"
     ]
    }
   ],
   "source": [
    "initial_state = {\"question\" : \"What is the spped at which light travels?\"}\n",
    "final_state = workflow.invoke(initial_state)\n",
    "print(final_state)"
   ]
  },
  {
   "cell_type": "code",
   "execution_count": null,
   "id": "66627d12",
   "metadata": {},
   "outputs": [],
   "source": []
  }
 ],
 "metadata": {
  "kernelspec": {
   "display_name": "myenv",
   "language": "python",
   "name": "python3"
  },
  "language_info": {
   "codemirror_mode": {
    "name": "ipython",
    "version": 3
   },
   "file_extension": ".py",
   "mimetype": "text/x-python",
   "name": "python",
   "nbconvert_exporter": "python",
   "pygments_lexer": "ipython3",
   "version": "3.13.0"
  }
 },
 "nbformat": 4,
 "nbformat_minor": 5
}
